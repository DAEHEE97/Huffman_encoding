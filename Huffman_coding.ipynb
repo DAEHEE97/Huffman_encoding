{
 "cells": [
  {
   "cell_type": "markdown",
   "metadata": {},
   "source": [
    "# Huffman coding"
   ]
  },
  {
   "cell_type": "markdown",
   "metadata": {},
   "source": [
    "- 최적 이진코드 문제 (optimal binary code)\n",
    "\n",
    "\n",
    "- 주어진 파일에 있는 문자들을 인코딩 하여 이진코드로 표현할 때, **비트의 개수가 최소가 되는 이진코드** 로 변환\n"
   ]
  },
  {
   "cell_type": "markdown",
   "metadata": {},
   "source": [
    "## 허프만 알고리즘"
   ]
  },
  {
   "cell_type": "markdown",
   "metadata": {},
   "source": [
    "**초기화**\n",
    "\n",
    "- 모든 기호를 출현 빈도수에 따라 나열한다.\n",
    "\n",
    "**단 한 가지 기호가 남을 때까지 아래 단계를 반복한다.**\n",
    "\n",
    "- 목록으로부터 가장 빈도가 낮은 것을 2개 고른다.\n",
    "\n",
    "\n",
    "- 그 다음 허프먼이 두가지 기호를 부모 노드를 가지는 부트리를 구성하고 자식노드를 생성한다. \n",
    "\n",
    "\n",
    "- 부모 노드 단 기호들의 빈도수를 더하여 주 노드에 할당하고 목록의 순서에 맞도록 목록에 삽입한다.\n",
    "\n",
    "\n",
    "- 목록에서 부모노드에 포함된 기호를 제거한다.\n",
    "\n",
    "**허프만 알고리즘은 입력 기호를 리프 노드로 하는 이진 트리를 만들어서 접두 부호를 만들어 내는 알고리즘이다.**\n",
    "\n"
   ]
  },
  {
   "cell_type": "markdown",
   "metadata": {},
   "source": [
    "## Src"
   ]
  },
  {
   "cell_type": "code",
   "execution_count": 1,
   "metadata": {},
   "outputs": [],
   "source": [
    "# Node 클래스 생성\n",
    "\n",
    "class Node:\n",
    "    def __init__(self, freq, symbol, left=None, right=None):\n",
    "        \n",
    "        # frequency of symbol\n",
    "        self.freq = freq\n",
    "\n",
    "        # symbol \n",
    "        self.symbol = symbol\n",
    "\n",
    "        # left node\n",
    "        self.left = left\n",
    "\n",
    "        # right node\n",
    "        self.right = right\n",
    "\n",
    "        # tree direction (0/1)\n",
    "        self.code = ''\n",
    "\n",
    "# A helper function to print the codes of symbols by traveling Huffman Tree\n",
    "\n",
    "codes = dict()\n",
    "\n",
    "def Calculate_Codes(node, val=''):\n",
    "    # huffman code for current node\n",
    "    newVal = val + str(node.code)\n",
    "\n",
    "    if(node.left):\n",
    "        Calculate_Codes(node.left, newVal)\n",
    "    if(node.right):\n",
    "        Calculate_Codes(node.right, newVal)\n",
    "\n",
    "    if(not node.left and not node.right):\n",
    "        codes[node.symbol] = newVal\n",
    "         \n",
    "    return codes        \n",
    "\n",
    "# A helper function to calculate the frequencies of symbols in given data\n",
    "\n",
    "def Calculate_freq(data):\n",
    "    \n",
    "    symbols = dict()\n",
    "    \n",
    "    for element in data:\n",
    "        \n",
    "        if symbols.get(element) == None:\n",
    "            symbols[element] = 1\n",
    "        else: \n",
    "            symbols[element] += 1  \n",
    "            \n",
    "    return symbols\n",
    "\n",
    "# A helper function to obtain the encoded output\n",
    "\n",
    "def Output_Encoded(data, coding):\n",
    "    \n",
    "    encoding_output = []\n",
    "    for c in data:\n",
    "      #  print(coding[c], end = '')\n",
    "        encoding_output.append(coding[c])\n",
    "        \n",
    "    string = ''.join([str(item) for item in encoding_output])    \n",
    "    return string\n",
    "        \n",
    "# A helper function to calculate the space difference between compressed and non compressed data\n",
    "\n",
    "def Total_Gain(data, coding):\n",
    "            \n",
    "    before_compression = len(data) * 8\n",
    "    \n",
    "    after_compression = 0\n",
    "    \n",
    "    symbols = coding.keys()\n",
    "    \n",
    "    for symbol in symbols:\n",
    "        count = data.count(symbol)\n",
    "        after_compression += count * len(coding[symbol]) \n",
    "    \n",
    "    print(\"Space usage before compression (in bits):\", before_compression)\n",
    "    print()\n",
    "    \n",
    "    print(\"Space usage after compression (in bits):\",  after_compression)\n",
    "    print()\n",
    "\n",
    "    \n",
    "def Huffman_Encoding(data):\n",
    "    \n",
    "    symbol_with_freqs = Calculate_freq(data)\n",
    "    \n",
    "    symbols = symbol_with_freqs.keys()\n",
    "    freq = symbol_with_freqs.values()\n",
    "    \n",
    "    print(\"symbols: \", symbols)\n",
    "    print()\n",
    "    print(\"freq: \", freq)\n",
    "    print()\n",
    "\n",
    "    nodes = []\n",
    "    \n",
    "    # converting symbols and frequencies into huffman tree nodes\n",
    "    \n",
    "    for symbol in symbols:\n",
    "        nodes.append(Node(symbol_with_freqs.get(symbol), symbol))\n",
    "    \n",
    "    while len(nodes) > 1:\n",
    "        \n",
    "        # sort all the nodes in ascending order based on their frequency\n",
    "        nodes = sorted(nodes, key=lambda x: x.freq)\n",
    "        \n",
    "        # pick 2 smallest nodes\n",
    "        \n",
    "        right = nodes[0]\n",
    "        left = nodes[1]\n",
    "    \n",
    "        left.code = 0\n",
    "        right.code = 1\n",
    "    \n",
    "        # combine the 2 smallest nodes to create new node\n",
    "        \n",
    "        newNode = Node(left.freq+right.freq, left.symbol+right.symbol, left, right)\n",
    "    \n",
    "        nodes.remove(left)\n",
    "        nodes.remove(right)\n",
    "        nodes.append(newNode)\n",
    "            \n",
    "    huffman_encoding = Calculate_Codes(nodes[0])\n",
    "    \n",
    "    print(\"symbols with codes\", huffman_encoding)\n",
    "    print()\n",
    "\n",
    "\n",
    "    Total_Gain(data, huffman_encoding)\n",
    "    encoded_output = Output_Encoded(data,huffman_encoding)\n",
    "    \n",
    "    return encoded_output, nodes[0]  \n",
    "    \n",
    "\n",
    "\n",
    "def Huffman_Decoding(encoded_data, huffman_tree):\n",
    "    \n",
    "    tree_head = huffman_tree\n",
    "    decoded_output = []\n",
    "    \n",
    "    for x in encoded_data:\n",
    "        \n",
    "        if x == '1':\n",
    "            huffman_tree = huffman_tree.right\n",
    "            \n",
    "        elif x == '0':\n",
    "            huffman_tree = huffman_tree.left\n",
    "        \n",
    "        try:\n",
    "            if huffman_tree.left.symbol == None and huffman_tree.right.symbol == None:\n",
    "                pass\n",
    "            \n",
    "        except AttributeError:\n",
    "            \n",
    "            decoded_output.append(huffman_tree.symbol)\n",
    "            huffman_tree = tree_head\n",
    "        \n",
    "    string = ''.join([str(item) for item in decoded_output])\n",
    "    \n",
    "    return string        \n",
    "\n"
   ]
  },
  {
   "cell_type": "markdown",
   "metadata": {},
   "source": [
    "## 파일 읽기\n",
    "\n",
    "- [위키피디아 출처](https://en.wikipedia.org/wiki/Huffman_coding)"
   ]
  },
  {
   "cell_type": "code",
   "execution_count": 2,
   "metadata": {},
   "outputs": [],
   "source": [
    "# !pip install --upgrade pip\n",
    "# !pip install wikipedia-api"
   ]
  },
  {
   "cell_type": "code",
   "execution_count": 3,
   "metadata": {},
   "outputs": [],
   "source": [
    "import wikipediaapi"
   ]
  },
  {
   "cell_type": "code",
   "execution_count": 4,
   "metadata": {},
   "outputs": [
    {
     "name": "stdout",
     "output_type": "stream",
     "text": [
      "Page - Title: Huffman coding\n",
      "Page - Summary: In computer science and information theory, a Huffman code is a particular type of optimal prefix code that is commonly used for lossless data compression. The process of finding or using such a code proceeds by means of Huffman coding, an algorithm developed by David A. Huffman while he was a Sc.D. student at MIT, and published in the 1952 paper \"A Method for the Construction of Minimum-Redundancy Codes\".The output from Huffman's algorithm can be viewed as a variable-length code table for encoding a source symbol (such as a character in a file).  The algorithm derives this table from the estimated probability or frequency of occurrence (weight) for each possible value of the source symbol.  As in other entropy encoding methods, more common symbols are generally represented using fewer bits than less common symbols.  Huffman's method can be efficiently implemented, finding a code in time linear to the number of input weights if these weights are sorted.  However, although optimal among methods encoding symbols separately, Huffman coding is not always optimal among all compression methods - it is replaced with arithmetic coding or asymmetric numeral systems if better compression ratio is required.\n",
      "https://en.wikipedia.org/wiki/Huffman_coding\n"
     ]
    }
   ],
   "source": [
    "wiki_en = wikipediaapi.Wikipedia(\n",
    "        language='en',\n",
    "        extract_format=wikipediaapi.ExtractFormat.WIKI\n",
    ")\n",
    "\n",
    "p_wiki = wiki_en.page(\"Huffman_coding\")\n",
    "\n",
    "data = p_wiki.summary\n",
    "\n",
    "print(\"Page - Title: %s\" % p_wiki.title)\n",
    "print(\"Page - Summary: %s\" % p_wiki.summary)\n",
    "print(p_wiki.fullurl)\n"
   ]
  },
  {
   "cell_type": "markdown",
   "metadata": {},
   "source": [
    "## 허프만 압축 전 후 비교"
   ]
  },
  {
   "cell_type": "code",
   "execution_count": 5,
   "metadata": {},
   "outputs": [
    {
     "name": "stdout",
     "output_type": "stream",
     "text": [
      "symbols:  dict_keys(['I', 'n', ' ', 'c', 'o', 'm', 'p', 'u', 't', 'e', 'r', 's', 'i', 'a', 'd', 'f', 'h', 'y', ',', 'H', 'l', 'x', '.', 'T', 'g', 'b', 'v', 'D', 'A', 'w', 'S', 'M', '1', '9', '5', '2', '\"', 'C', '-', 'R', \"'\", '(', ')', 'q'])\n",
      "\n",
      "freq:  dict_values([2, 63, 195, 43, 83, 50, 25, 30, 66, 111, 57, 67, 69, 68, 39, 36, 37, 20, 7, 7, 39, 1, 10, 4, 21, 19, 7, 2, 3, 10, 1, 3, 1, 1, 1, 1, 2, 2, 3, 1, 2, 2, 2, 2])\n",
      "\n",
      "symbols with codes {'r': '00000', 'H': '00001000', ',': '00001001', 'I': '0000101000', 'R': '0000101001', '-': '000010101', 'M': '000010110', 'A': '000010111', 'p': '000011', 'm': '00010', 'c': '00011', ' ': '001', 'o': '0100', 'g': '010100', 'w': '0101010', '.': '0101011', 'y': '010110', 'b': '010111', 'l': '01100', 'd': '01101', 'h': '01110', 'f': '01111', 'i': '1000', 'a': '1001', 's': '1010', 't': '1011', 'n': '1100', '2': '1101000000', '5': '1101000001', '9': '1101000010', '1': '1101000011', 'S': '1101000100', 'x': '1101000101', 'q': '110100011', ')': '110100100', '(': '110100101', \"'\": '110100110', 'C': '110100111', '\"': '110101000', 'D': '110101001', 'T': '11010101', 'v': '1101011', 'u': '11011', 'e': '111'}\n",
      "\n",
      "Space usage before compression (in bits): 9720\n",
      "\n",
      "Space usage after compression (in bits): 5377\n",
      "\n"
     ]
    }
   ],
   "source": [
    "encoding, tree = Huffman_Encoding(data)"
   ]
  },
  {
   "cell_type": "markdown",
   "metadata": {},
   "source": [
    "## 원문 인코딩 결과 출력"
   ]
  },
  {
   "cell_type": "code",
   "execution_count": 6,
   "metadata": {},
   "outputs": [
    {
     "name": "stdout",
     "output_type": "stream",
     "text": [
      "Encoded output :  0000101000110000100011010000010000011110111011111000000011010000111000111110000011111001100111000110100110001100011110100000000001010011011100001001100001101101110111010000000010110000010010011001001000010001101101111011110001010011100001000110100011011110011000101000110010010000111001000001011100000011110110110010010000000110110101100000111110010100011110010100000011101110000001010010110000100001100000111011111000110100010100100011010001101111001101101110100110110011000101000100011010000010000100100110001100010110001110111010111011010010111101000000000101100010010101010011001111010101000101101100110111001001000110100000100000110000011110101010100001001100010101100111010101011101110010000110000001000001111110101010001010001111001011111000110001101100011000101000010100000000011101110101000110001010000110101101100011011100011001001000110100011011110010000110000001000001111111101101101000101011101011000100010111100111001010001010001111001000010001101101111011110001010011100001000110100011011000110001010000001001001100111000011001011000101000100000001000101101110000100010110111111010111110110001000000111110110100101011101011000111010100110011101011100001101001000010111010101100100001000110110111101111000101001110000101010100111010000110011100101110111001010101010011010001100100111010001000001101010111101010010101011001101010111101101101111110010110011001101100100001011000001010001101010100001001001100111000110100100001111011010111011001000101001110111011010011000110000110110111011100111010000111101000010110100000111010000000010000111001000011111000000011101010000000101110010000101101111011011100100011010010111101000000000110110111011100111010011101001100101010110000011011000111011100001001100001010001111001000010110100011001000000101101100010000010101000010100111101101110111100011011001110000011010110001110100111010001101111101011010100001010111101010101110111001010011011101100001111011101100101111000000100000100010000100011011011110111100010100111001101001101010001100101100010100010000000100010110111000010001000111001110000101011111100111010111000111010101011101101001100110100011001001110101110010000010001001010111011001110000101010110011111000101001011011100010001101000110111100110111001010111011001110010111101000000000111111000001101000110110001100010100001100100110100100110110000000011111001101001011000010010111010001100001110100101101011011000110111000110011010001100100100011011101001000001001000111011111000000011000110000110010010111110000110011111010010001010110010011101010101110111001100101100010100010000000100010110111000010001011011110000010001101011111101000110110111010001010001101110010101110110011100101111000000100000100011011011101110011111010101110000001010011011111011010010000110000001000101111001010111100001100100010110101100010100000000010111100000111110100011110111111100000110101100010100011110010100000110001111011000000000011111000001111100111010010101010101111000010100011101011110100100001011110100000000011111001000110111000100001101001010101010000101110110011100111010111001011001101111100101000111100110110111011100110100100110110000000011111001101001011000010010111010001100010101100100100001011110100011000110000101001011011101110000000111111001011000000100000011010110001111110000011010001101100011000101000010001011110110111001000110110100000100100100010010000000111001000110100000100001001001100001101001011000010010111010001100101000110010000011100101010011111001110000010010110001100010110001000001110000110000011110101111100101111101101001110111010100011000101000010111111101010101110000000101011110001011101000110110111010011100001011001111010101000100011010000010000100100110000110100101100001001011101000110010100101011001001000010001101101111011110001010011100110100110101000100010111101101110010001101001000111001110000101011111100111101111011111000000111000111110010110110001011000110000001000001101100111000101111100101111101101000010010010111110001100011011000110001010000110010010001101000110111100110001100001101110000001011100101100100011001111001000000011011010000110110111011100111001101100010010111111000000010100011110011000110000001111011101100101010101111000010100011101011101000110000111100110110111011110101110010101010111100001010001110101110100011001000001110011010010000000101111101101010101100100100001000010001010101111101011111000000000100100110010110010110111001001101101010001110001010000001110111000000101001011000011001000100100110001010000100010111101101110010001101101000111111000001101000110110001100010100001101001011000010010111010001100101000110101110000111001000001001101111101100010110000010010010000100011011011110111100010100111000010001101000110110001100010100001100010100011100010010110011001011000101010100101011010100010100000011101110000001010010110000110010001001001100010100001100101100011000010001101000001000001100000111101010101000010011000010001011110110111001000110110100010000101010011000101100110001010001000001110000110110010010001111101101001010101010001011011100011001000001000101101110000101111011100000011001000110100011011000110001010000101000000000110011010010110000100001011110110000010000001100111001101100010111000001001011000011010010110101010111110001010100011000011110010101111111011101111100000001000110100000100000110000011110101010100001001100001000001001101110000100001100010100010000011111010001111011100000000111011010101011\n"
     ]
    }
   ],
   "source": [
    "print(\"Encoded output : \", encoding)"
   ]
  },
  {
   "cell_type": "markdown",
   "metadata": {},
   "source": [
    "## 인코딩 된 데이터 디코딩 출력"
   ]
  },
  {
   "cell_type": "code",
   "execution_count": 7,
   "metadata": {},
   "outputs": [
    {
     "name": "stdout",
     "output_type": "stream",
     "text": [
      "Decoded Output :  In computer science and information theory, a Huffman code is a particular type of optimal prefix code that is commonly used for lossless data compression. The process of finding or using such a code proceeds by means of Huffman coding, an algorithm developed by David A. Huffman while he was a Sc.D. student at MIT, and published in the 1952 paper \"A Method for the Construction of Minimum-Redundancy Codes\".The output from Huffman's algorithm can be viewed as a variable-length code table for encoding a source symbol (such as a character in a file).  The algorithm derives this table from the estimated probability or frequency of occurrence (weight) for each possible value of the source symbol.  As in other entropy encoding methods, more common symbols are generally represented using fewer bits than less common symbols.  Huffman's method can be efficiently implemented, finding a code in time linear to the number of input weights if these weights are sorted.  However, although optimal among methods encoding symbols separately, Huffman coding is not always optimal among all compression methods - it is replaced with arithmetic coding or asymmetric numeral systems if better compression ratio is required.\n"
     ]
    }
   ],
   "source": [
    "print(\"Decoded Output : \", Huffman_Decoding(encoding,tree))"
   ]
  },
  {
   "cell_type": "markdown",
   "metadata": {},
   "source": [
    "---"
   ]
  }
 ],
 "metadata": {
  "hide_input": false,
  "kernelspec": {
   "display_name": "Python 3",
   "language": "python",
   "name": "python3"
  },
  "language_info": {
   "codemirror_mode": {
    "name": "ipython",
    "version": 3
   },
   "file_extension": ".py",
   "mimetype": "text/x-python",
   "name": "python",
   "nbconvert_exporter": "python",
   "pygments_lexer": "ipython3",
   "version": "3.8.5"
  },
  "toc": {
   "base_numbering": 1,
   "nav_menu": {},
   "number_sections": true,
   "sideBar": true,
   "skip_h1_title": false,
   "title_cell": "Table of Contents",
   "title_sidebar": "Contents",
   "toc_cell": false,
   "toc_position": {},
   "toc_section_display": true,
   "toc_window_display": false
  }
 },
 "nbformat": 4,
 "nbformat_minor": 4
}
